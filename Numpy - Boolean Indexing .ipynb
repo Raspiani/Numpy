{
 "cells": [
  {
   "cell_type": "markdown",
   "metadata": {},
   "source": [
    "## Numpy - Boolean Indexing "
   ]
  },
  {
   "cell_type": "code",
   "execution_count": 26,
   "metadata": {},
   "outputs": [],
   "source": [
    "#memasukan modul yang digunakan \n",
    "import numpy as np "
   ]
  },
  {
   "cell_type": "code",
   "execution_count": 27,
   "metadata": {},
   "outputs": [],
   "source": [
    "#membuat array state yaitu nama-nama kota \n",
    "states = np.array(['NY', 'DC', 'CA', 'NY', 'CA', 'DC', 'NY', 'CA'])"
   ]
  },
  {
   "cell_type": "code",
   "execution_count": 28,
   "metadata": {},
   "outputs": [],
   "source": [
    "#membuat angka random dengan np.random.randn sebanyak 8 baris 4 kolom \n",
    "num = np.random.randn(8,4)"
   ]
  },
  {
   "cell_type": "code",
   "execution_count": 29,
   "metadata": {},
   "outputs": [
    {
     "data": {
      "text/plain": [
       "array(['NY', 'DC', 'CA', 'NY', 'CA', 'DC', 'NY', 'CA'], dtype='<U2')"
      ]
     },
     "execution_count": 29,
     "metadata": {},
     "output_type": "execute_result"
    }
   ],
   "source": [
    "#melihat hasil states\n",
    "states"
   ]
  },
  {
   "cell_type": "code",
   "execution_count": 30,
   "metadata": {},
   "outputs": [
    {
     "data": {
      "text/plain": [
       "array([[ 0.17828873,  0.37025811, -0.4377755 , -0.49291494],\n",
       "       [ 0.26880349, -0.90472482, -0.41961572,  1.30610439],\n",
       "       [ 1.37144979, -0.1262595 ,  1.70112735, -0.05323914],\n",
       "       [-0.72411097, -1.10533013,  0.67675491, -0.5374421 ],\n",
       "       [ 0.9644027 ,  0.62465197, -0.95914444,  1.27413365],\n",
       "       [ 0.22438088, -0.3885113 , -2.14704479,  0.75754307],\n",
       "       [-1.07793654,  0.7593483 ,  1.60475951,  1.91958806],\n",
       "       [ 1.28813984,  0.99254492, -0.80212429,  1.15087565]])"
      ]
     },
     "execution_count": 30,
     "metadata": {},
     "output_type": "execute_result"
    }
   ],
   "source": [
    "#melihat hasil num \n",
    "num"
   ]
  },
  {
   "cell_type": "code",
   "execution_count": 31,
   "metadata": {},
   "outputs": [
    {
     "data": {
      "text/plain": [
       "(8, 4)"
      ]
     },
     "execution_count": 31,
     "metadata": {},
     "output_type": "execute_result"
    }
   ],
   "source": [
    "#melihat ukuran num\n",
    "num.shape"
   ]
  },
  {
   "cell_type": "code",
   "execution_count": 32,
   "metadata": {},
   "outputs": [
    {
     "data": {
      "text/plain": [
       "array([ True, False, False,  True, False, False,  True, False])"
      ]
     },
     "execution_count": 32,
     "metadata": {},
     "output_type": "execute_result"
    }
   ],
   "source": [
    "#memeriksa states atau nama kota yang sama dengan 'NY' = New York\n",
    "states == 'NY'"
   ]
  },
  {
   "cell_type": "code",
   "execution_count": 33,
   "metadata": {},
   "outputs": [
    {
     "data": {
      "text/plain": [
       "array([[ 0.17828873,  0.37025811, -0.4377755 , -0.49291494],\n",
       "       [-0.72411097, -1.10533013,  0.67675491, -0.5374421 ],\n",
       "       [-1.07793654,  0.7593483 ,  1.60475951,  1.91958806]])"
      ]
     },
     "execution_count": 33,
     "metadata": {},
     "output_type": "execute_result"
    }
   ],
   "source": [
    "#melihat nilai num dimana statesnya adalah 'NY'\n",
    "num[states == 'NY']"
   ]
  },
  {
   "cell_type": "code",
   "execution_count": 34,
   "metadata": {},
   "outputs": [
    {
     "data": {
      "text/plain": [
       "array([[ 0.37025811, -0.4377755 , -0.49291494],\n",
       "       [-1.10533013,  0.67675491, -0.5374421 ],\n",
       "       [ 0.7593483 ,  1.60475951,  1.91958806]])"
      ]
     },
     "execution_count": 34,
     "metadata": {},
     "output_type": "execute_result"
    }
   ],
   "source": [
    "#melihat nilai num dimana statesnya adalah 'NY' dari kolom kedua sampai kolom terakhir \n",
    "num[states == 'NY', 1:]"
   ]
  },
  {
   "cell_type": "code",
   "execution_count": 35,
   "metadata": {},
   "outputs": [
    {
     "data": {
      "text/plain": [
       "array([[ 0.37025811, -0.4377755 ],\n",
       "       [-1.10533013,  0.67675491],\n",
       "       [ 0.7593483 ,  1.60475951]])"
      ]
     },
     "execution_count": 35,
     "metadata": {},
     "output_type": "execute_result"
    }
   ],
   "source": [
    "#melihat nilai num dimana statesnya adalah 'NY' dari kolom kedua sampai kolom ketiga \n",
    "num[states == 'NY', 1:3]"
   ]
  },
  {
   "cell_type": "code",
   "execution_count": 36,
   "metadata": {},
   "outputs": [
    {
     "data": {
      "text/plain": [
       "array([ 0.17828873, -0.72411097, -1.07793654])"
      ]
     },
     "execution_count": 36,
     "metadata": {},
     "output_type": "execute_result"
    }
   ],
   "source": [
    "#melihat nilai num dimana statesnya adalah 'NY' dari kolom pertama menjadi satu array (bentuknya satu baris)\n",
    "num[states == 'NY', 0]"
   ]
  },
  {
   "cell_type": "code",
   "execution_count": 37,
   "metadata": {},
   "outputs": [
    {
     "data": {
      "text/plain": [
       "array([[ 0.17828873],\n",
       "       [-0.72411097],\n",
       "       [-1.07793654]])"
      ]
     },
     "execution_count": 37,
     "metadata": {},
     "output_type": "execute_result"
    }
   ],
   "source": [
    "#melihat nilai num dimana statesnya adalah 'NY' dari kolom pertama menjadi (bentuk penulisannya satu kolom)  \n",
    "num[states == 'NY', 0:1]"
   ]
  },
  {
   "cell_type": "markdown",
   "metadata": {},
   "source": [
    "#### Catatan: \n",
    "\n",
    "1. == tanda perbandingan\n",
    "2. != tanda tidak sama"
   ]
  },
  {
   "cell_type": "code",
   "execution_count": 38,
   "metadata": {},
   "outputs": [
    {
     "data": {
      "text/plain": [
       "array([False,  True,  True, False,  True,  True, False,  True])"
      ]
     },
     "execution_count": 38,
     "metadata": {},
     "output_type": "execute_result"
    }
   ],
   "source": [
    "#melihat isi states yang bukan sama dengan 'NY'\n",
    "states != 'NY'"
   ]
  },
  {
   "cell_type": "code",
   "execution_count": 39,
   "metadata": {},
   "outputs": [
    {
     "data": {
      "text/plain": [
       "array([ True, False,  True,  True,  True, False,  True,  True])"
      ]
     },
     "execution_count": 39,
     "metadata": {},
     "output_type": "execute_result"
    }
   ],
   "source": [
    "#melihat isi states yang bukan sama dengan 'DC'\n",
    "states != 'DC'"
   ]
  },
  {
   "cell_type": "code",
   "execution_count": 40,
   "metadata": {},
   "outputs": [
    {
     "data": {
      "text/plain": [
       "array([[ 0.17828873,  0.37025811, -0.4377755 , -0.49291494],\n",
       "       [-0.72411097, -1.10533013,  0.67675491, -0.5374421 ],\n",
       "       [-1.07793654,  0.7593483 ,  1.60475951,  1.91958806]])"
      ]
     },
     "execution_count": 40,
     "metadata": {},
     "output_type": "execute_result"
    }
   ],
   "source": [
    "#melihat nilai num dari states yang sama dengan 'NY'\n",
    "num[(states == 'NY')]"
   ]
  },
  {
   "cell_type": "code",
   "execution_count": 41,
   "metadata": {},
   "outputs": [
    {
     "data": {
      "text/plain": [
       "array([[ 0.26880349, -0.90472482, -0.41961572,  1.30610439],\n",
       "       [ 1.37144979, -0.1262595 ,  1.70112735, -0.05323914],\n",
       "       [ 0.9644027 ,  0.62465197, -0.95914444,  1.27413365],\n",
       "       [ 0.22438088, -0.3885113 , -2.14704479,  0.75754307],\n",
       "       [ 1.28813984,  0.99254492, -0.80212429,  1.15087565]])"
      ]
     },
     "execution_count": 41,
     "metadata": {},
     "output_type": "execute_result"
    }
   ],
   "source": [
    "#melihat nilai num dari states yang BUKAN sama dengan 'NY'\n",
    "#negasi states == 'NY'\n",
    "num[~(states == 'NY')]"
   ]
  },
  {
   "cell_type": "markdown",
   "metadata": {},
   "source": [
    "#### Catatan: \n",
    "\n",
    "1. == adalah tanda perbandingan \n",
    "2. ~ adalah tanda negasi \n",
    "3. | adalah tanda atau (or)"
   ]
  },
  {
   "cell_type": "code",
   "execution_count": 42,
   "metadata": {},
   "outputs": [
    {
     "data": {
      "text/plain": [
       "array([ True,  True, False,  True, False,  True,  True, False])"
      ]
     },
     "execution_count": 42,
     "metadata": {},
     "output_type": "execute_result"
    }
   ],
   "source": [
    "#melihat hasil states yang sama dengan 'NY' atau 'DC'\n",
    "#dalam hal ini memeriksa\n",
    "(states == 'NY') | (states == 'DC')"
   ]
  },
  {
   "cell_type": "code",
   "execution_count": 43,
   "metadata": {},
   "outputs": [
    {
     "data": {
      "text/plain": [
       "array([ True,  True, False,  True, False,  True,  True, False])"
      ]
     },
     "execution_count": 43,
     "metadata": {},
     "output_type": "execute_result"
    }
   ],
   "source": [
    "#memeriksa states yang sama dengan 'NY' atau 'DC'\n",
    "nydc = (states == 'NY') | (states == 'DC')\n",
    "nydc"
   ]
  },
  {
   "cell_type": "code",
   "execution_count": 44,
   "metadata": {},
   "outputs": [
    {
     "data": {
      "text/plain": [
       "array([[ 0.17828873,  0.37025811, -0.4377755 , -0.49291494],\n",
       "       [ 0.26880349, -0.90472482, -0.41961572,  1.30610439],\n",
       "       [-0.72411097, -1.10533013,  0.67675491, -0.5374421 ],\n",
       "       [ 0.22438088, -0.3885113 , -2.14704479,  0.75754307],\n",
       "       [-1.07793654,  0.7593483 ,  1.60475951,  1.91958806]])"
      ]
     },
     "execution_count": 44,
     "metadata": {},
     "output_type": "execute_result"
    }
   ],
   "source": [
    "#melihat nilai num dari states yang sama dengan 'NY' atau 'DC'\n",
    "num[nydc]"
   ]
  },
  {
   "cell_type": "markdown",
   "metadata": {},
   "source": [
    "                    ##Semoga Bermanfaat\n",
    "                    ##@Raspiani_"
   ]
  }
 ],
 "metadata": {
  "kernelspec": {
   "display_name": "Python 3",
   "language": "python",
   "name": "python3"
  },
  "language_info": {
   "codemirror_mode": {
    "name": "ipython",
    "version": 3
   },
   "file_extension": ".py",
   "mimetype": "text/x-python",
   "name": "python",
   "nbconvert_exporter": "python",
   "pygments_lexer": "ipython3",
   "version": "3.6.5"
  }
 },
 "nbformat": 4,
 "nbformat_minor": 2
}
