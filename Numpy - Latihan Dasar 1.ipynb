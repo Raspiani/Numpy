{
 "cells": [
  {
   "cell_type": "markdown",
   "metadata": {},
   "source": [
    "## Numpy - Latihan Dasar 1\n",
    "\n",
    "Berikut ini latihan dasar 1 numpy in python "
   ]
  },
  {
   "cell_type": "code",
   "execution_count": 31,
   "metadata": {},
   "outputs": [],
   "source": [
    "#memasukan modul yang digunakan\n",
    "import numpy as np"
   ]
  },
  {
   "cell_type": "code",
   "execution_count": 32,
   "metadata": {},
   "outputs": [
    {
     "name": "stdout",
     "output_type": "stream",
     "text": [
      "[True, 'True', 1]\n",
      "['True' 'True' '1']\n",
      "==================================================\n",
      "<class 'list'>\n",
      "<class 'numpy.ndarray'>\n"
     ]
    }
   ],
   "source": [
    "a = [True, 'True', 1]\n",
    "b = np.array(a)\n",
    "print(a)\n",
    "print(b)\n",
    "\n",
    "print('='*50)\n",
    "\n",
    "print(type(a))\n",
    "print(type(b))"
   ]
  },
  {
   "cell_type": "code",
   "execution_count": 33,
   "metadata": {},
   "outputs": [
    {
     "name": "stdout",
     "output_type": "stream",
     "text": [
      "[1, 2, 3, 1, 2, 3]\n",
      "==================================================\n",
      "[2 4 6]\n"
     ]
    }
   ],
   "source": [
    "#penjumlahan list hasilnya adalah elemen list yang digabungkan \n",
    "l = [1, 2, 3]\n",
    "print(l + l)\n",
    "\n",
    "print('='*50)\n",
    "\n",
    "#penjumlahan array adalah elemen array yang dijumlahkan\n",
    "a = np.array([1, 2, 3])\n",
    "print(a + a)"
   ]
  },
  {
   "cell_type": "code",
   "execution_count": 34,
   "metadata": {},
   "outputs": [
    {
     "name": "stdout",
     "output_type": "stream",
     "text": [
      "[2 4 2 4]\n"
     ]
    }
   ],
   "source": [
    "#perkalian array adalah elemen array yang digabungkan \n",
    "a = [1, 2]\n",
    "b = np.array(a * 2)\n",
    "print (b * 2)"
   ]
  },
  {
   "cell_type": "code",
   "execution_count": 35,
   "metadata": {},
   "outputs": [
    {
     "name": "stdout",
     "output_type": "stream",
     "text": [
      "['1.0' 'one' 'True']\n"
     ]
    }
   ],
   "source": [
    "#merubah list [1.0, 'one', True] menjadi array\n",
    "a = np.array([1.0, 'one', True])\n",
    "print(a)"
   ]
  },
  {
   "cell_type": "code",
   "execution_count": 36,
   "metadata": {},
   "outputs": [
    {
     "name": "stdout",
     "output_type": "stream",
     "text": [
      "[ True  True  True]\n"
     ]
    }
   ],
   "source": [
    "#memeriksa apakah array heights > 100\n",
    "heights = np.array([134.0, 142.1, 980.4])\n",
    "print(heights > 100)"
   ]
  },
  {
   "cell_type": "code",
   "execution_count": 37,
   "metadata": {},
   "outputs": [
    {
     "name": "stdout",
     "output_type": "stream",
     "text": [
      "[False False  True  True]\n",
      "==================================================\n",
      "[9 9]\n"
     ]
    }
   ],
   "source": [
    "#memeriksa apakah array a > 6 \n",
    "a = np.array([3, 5, 9, 9])\n",
    "print(a > 6)\n",
    "\n",
    "print('='*50)\n",
    "\n",
    "#mencetak nilai elemen dari hasil memeriksa apakah array a > 6 \n",
    "print(a[a > 6])"
   ]
  },
  {
   "cell_type": "code",
   "execution_count": 38,
   "metadata": {},
   "outputs": [
    {
     "name": "stdout",
     "output_type": "stream",
     "text": [
      "[1 2]\n"
     ]
    }
   ],
   "source": [
    "#mencetak nilai elemen dari hasil memeriksa apakah array a < 3\n",
    "a = np.array([1, 2, 3, 4, 5])\n",
    "print(a[a < 3])"
   ]
  },
  {
   "cell_type": "code",
   "execution_count": 39,
   "metadata": {},
   "outputs": [
    {
     "ename": "TypeError",
     "evalue": "'>' not supported between instances of 'list' and 'int'",
     "output_type": "error",
     "traceback": [
      "\u001b[1;31m---------------------------------------------------------------------------\u001b[0m",
      "\u001b[1;31mTypeError\u001b[0m                                 Traceback (most recent call last)",
      "\u001b[1;32m<ipython-input-39-51a1b247c410>\u001b[0m in \u001b[0;36m<module>\u001b[1;34m()\u001b[0m\n\u001b[0;32m      2\u001b[0m \u001b[1;31m#Hanya list yang dijadikan array terlebih dahulu yang dapat mencetak hasilnya\u001b[0m\u001b[1;33m\u001b[0m\u001b[1;33m\u001b[0m\u001b[0m\n\u001b[0;32m      3\u001b[0m \u001b[0ma\u001b[0m \u001b[1;33m=\u001b[0m \u001b[1;33m[\u001b[0m\u001b[1;36m10\u001b[0m\u001b[1;33m,\u001b[0m \u001b[1;36m40\u001b[0m\u001b[1;33m,\u001b[0m \u001b[1;36m20\u001b[0m\u001b[1;33m,\u001b[0m \u001b[1;36m30\u001b[0m\u001b[1;33m,\u001b[0m \u001b[1;36m40\u001b[0m\u001b[1;33m]\u001b[0m\u001b[1;33m\u001b[0m\u001b[0m\n\u001b[1;32m----> 4\u001b[1;33m \u001b[0mprint\u001b[0m\u001b[1;33m(\u001b[0m\u001b[0ma\u001b[0m\u001b[1;33m[\u001b[0m\u001b[0ma\u001b[0m \u001b[1;33m>\u001b[0m \u001b[1;36m10\u001b[0m\u001b[1;33m]\u001b[0m\u001b[1;33m)\u001b[0m\u001b[1;33m\u001b[0m\u001b[0m\n\u001b[0m",
      "\u001b[1;31mTypeError\u001b[0m: '>' not supported between instances of 'list' and 'int'"
     ]
    }
   ],
   "source": [
    "#mencetak nilai elemen dari hasil memeriksa langsung apakah list a > 10 itu tidak dapat dilakukan \n",
    "#Hanya list yang dijadikan array terlebih dahulu yang dapat mencetak hasilnya\n",
    "a = [10, 40, 20, 30, 40]\n",
    "print(a[a > 10])"
   ]
  },
  {
   "cell_type": "code",
   "execution_count": 40,
   "metadata": {},
   "outputs": [
    {
     "name": "stdout",
     "output_type": "stream",
     "text": [
      "[2 3 4]\n",
      "2\n",
      "==================================================\n",
      "6\n"
     ]
    }
   ],
   "source": [
    "a =  np.array([1, 2, 3, 4]) #merubah list 1, 2, 3, 4] menjadi array \n",
    "b = [2, 4, 6, 8] #list b = [2, 4, 6, 8]\n",
    "c = a[a > 1] #mencetak nilai elemen dari hasil memeriksa langsung apakah array a > 1 \n",
    "d = c[0]\n",
    "\n",
    "print(c)\n",
    "print(d)\n",
    "\n",
    "print('='*50)\n",
    "\n",
    "print(b[d]) #mencetak nilai elemen pertama yang bukan termasuk kedalam elemen array c, dalam hal ini mencetak elemen di list b yang elemennya tidak terdapat di array a"
   ]
  },
  {
   "cell_type": "code",
   "execution_count": 41,
   "metadata": {},
   "outputs": [
    {
     "name": "stdout",
     "output_type": "stream",
     "text": [
      "[ True  True False False]\n",
      "==================================================\n",
      "True\n"
     ]
    }
   ],
   "source": [
    "#merubah list menjadi array \n",
    "a = np.array([1, 2, 3, 4])\n",
    "\n",
    "#memeriksa nilai array a dimana a < 3\n",
    "b = (a < 3)\n",
    "print(b)\n",
    "\n",
    "print('='*50)\n",
    "\n",
    "#mencetak hasil pertama pemeriksaan array a dimana a < 3 \n",
    "print(b[a[0]])"
   ]
  },
  {
   "cell_type": "markdown",
   "metadata": {},
   "source": [
    "                                    ##Semoga Bermanfaat\n",
    "                                    ##@Raspiani_"
   ]
  }
 ],
 "metadata": {
  "kernelspec": {
   "display_name": "Python 3",
   "language": "python",
   "name": "python3"
  },
  "language_info": {
   "codemirror_mode": {
    "name": "ipython",
    "version": 3
   },
   "file_extension": ".py",
   "mimetype": "text/x-python",
   "name": "python",
   "nbconvert_exporter": "python",
   "pygments_lexer": "ipython3",
   "version": "3.6.5"
  }
 },
 "nbformat": 4,
 "nbformat_minor": 2
}
